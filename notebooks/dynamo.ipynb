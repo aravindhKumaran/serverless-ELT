{
 "cells": [
  {
   "cell_type": "code",
   "execution_count": 55,
   "metadata": {},
   "outputs": [],
   "source": [
    "import boto3\n",
    "from datetime import datetime as dt \n",
    "from datetime import timedelta as td\n",
    "import time\n",
    "import requests\n",
    "import pandas as pd"
   ]
  },
  {
   "cell_type": "code",
   "execution_count": 56,
   "metadata": {},
   "outputs": [],
   "source": [
    "dynamo_client = boto3.client('dynamodb')\n",
    "dynamo_resource = boto3.resource('dynamodb')\n",
    "s3_client = boto3.client('s3')\n",
    "s3_resource = boto3.resource('s3')\n",
    "job_details_table = dynamo_resource.Table('jobs')\n",
    "job_run_details_table = dynamo_resource.Table('job_run_details')"
   ]
  },
  {
   "cell_type": "code",
   "execution_count": 57,
   "metadata": {},
   "outputs": [
    {
     "data": {
      "text/plain": [
       "{'ResponseMetadata': {'RequestId': 'P6C3E2KG88Q7FTOGB2H7R75CCVVV4KQNSO5AEMVJF66Q9ASUAAJG',\n",
       "  'HTTPStatusCode': 200,\n",
       "  'HTTPHeaders': {'server': 'Server',\n",
       "   'date': 'Wed, 27 Sep 2023 02:26:19 GMT',\n",
       "   'content-type': 'application/x-amz-json-1.0',\n",
       "   'content-length': '2',\n",
       "   'connection': 'keep-alive',\n",
       "   'x-amzn-requestid': 'P6C3E2KG88Q7FTOGB2H7R75CCVVV4KQNSO5AEMVJF66Q9ASUAAJG',\n",
       "   'x-amz-crc32': '2745614147'},\n",
       "  'RetryAttempts': 0}}"
      ]
     },
     "execution_count": 57,
     "metadata": {},
     "output_type": "execute_result"
    }
   ],
   "source": [
    "job_details_table.delete_item(Key = {'job_id':'ghactivity_ingest'})\n",
    "item = {\n",
    "    'job_id': 'ghactivity_ingest',\n",
    "    'job_description': 'Ingest ghactivity data to s3',\n",
    "    'is_active': 'Y',\n",
    "    'baseline_days': 3\n",
    "    }\n",
    "job_details_table.put_item(Item=item)"
   ]
  },
  {
   "cell_type": "code",
   "execution_count": 61,
   "metadata": {},
   "outputs": [],
   "source": [
    "def get_job_details(job_name, job_details_table):\n",
    "    #job_details_table = dynamo_resource.Table('jobs')\n",
    "    job_details_table = job_details_table.get_item(Key={'job_id':job_name})['Item']\n",
    "    return job_details_table"
   ]
  },
  {
   "cell_type": "code",
   "execution_count": 86,
   "metadata": {},
   "outputs": [],
   "source": [
    "\n",
    "def get_next_file(job_details):\n",
    "    job_start_time = int(time.mktime(dt.now().timetuple()))\n",
    "    job_run_bookmark_details = job_details.get('job_run_bookmark_details')\n",
    "    baseline_days = int(job_details['baseline_days'])\n",
    "    if job_run_bookmark_details:\n",
    "        dt_part = job_run_bookmark_details['last_run_file_name'].split('.')[0].split('/')[-1]\n",
    "        #dt_part = file_name.split('/')[-1]\n",
    "        next_file_name = f'{dt.strftime(dt.strptime(dt_part, \"%Y-%m-%d-%H\") + td(hours=1), \"%Y-%m-%d-%-H\")}.json.gz' \n",
    "    else:\n",
    "        next_file_name = f'{dt.strftime(dt.now().date() - td(days=baseline_days), format=\"%Y-%m-%d\")}-0.json.gz'\n",
    "\n",
    "    return job_start_time, next_file_name\n"
   ]
  },
  {
   "cell_type": "code",
   "execution_count": 92,
   "metadata": {},
   "outputs": [
    {
     "data": {
      "text/plain": [
       "{'job_description': 'Ingest ghactivity data to s3',\n",
       " 'is_active': 'Y',\n",
       " 'job_id': 'ghactivity_ingest',\n",
       " 'baseline_days': Decimal('3'),\n",
       " 'job_run_bookmark_details': {'last_run_file_name': 's3://github-activity/landing/ghactivity//2023-09-24-0.json.gz',\n",
       "  'status_code': Decimal('200')}}"
      ]
     },
     "execution_count": 92,
     "metadata": {},
     "output_type": "execute_result"
    }
   ],
   "source": [
    "job_details = get_job_details('ghactivity_ingest', job_details_table)\n",
    "job_details"
   ]
  },
  {
   "cell_type": "code",
   "execution_count": 93,
   "metadata": {},
   "outputs": [
    {
     "data": {
      "text/plain": [
       "(1695782738, '2023-09-24-1.json.gz')"
      ]
     },
     "execution_count": 93,
     "metadata": {},
     "output_type": "execute_result"
    }
   ],
   "source": [
    "job_start_time, next_file = get_next_file(job_details)\n",
    "job_start_time, next_file"
   ]
  },
  {
   "cell_type": "code",
   "execution_count": 85,
   "metadata": {},
   "outputs": [
    {
     "data": {
      "text/plain": [
       "b\"<?xml version='1.0' encoding='UTF-8'?><Error><Code>NoSuchKey</Code><Message>The specified key does not exist.</Message></Error>\""
      ]
     },
     "execution_count": 85,
     "metadata": {},
     "output_type": "execute_result"
    }
   ],
   "source": [
    "res = requests.get('https://data.gharchive.org/2023-09-24-1')\n",
    "res.content"
   ]
  },
  {
   "cell_type": "code",
   "execution_count": 94,
   "metadata": {},
   "outputs": [],
   "source": [
    "#https://data.gharchive.org/2023-09-24-0.json.gz\n",
    "bucket_name =  'github-activity'\n",
    "folder = f'landing/ghactivity/'\n",
    "base_url= 'https://data.gharchive.org/'\n",
    "\n",
    "def upload_file_to_s3(file_name, bucket_name, folder):\n",
    "    print(f'Getting the {file_name} from gharchive')\n",
    "    \n",
    "    res = requests.get(base_url+file_name)\n",
    "    print(f'Uploading {file_name} to s3 under s3://{bucket_name}/{folder}')\n",
    "    if res.status_code == 200:\n",
    "\n",
    "        upload_res = s3_client.put_object(\n",
    "            Bucket = bucket_name,\n",
    "            Key = folder+file_name,\n",
    "            Body = res.content \n",
    "        )\n",
    "\n",
    "        return {\n",
    "            'last_run_file_name': f's3://{bucket_name}/{folder}/{file_name}',\n",
    "            'status_code': upload_res['ResponseMetadata']['HTTPStatusCode']\n",
    "        }"
   ]
  },
  {
   "cell_type": "code",
   "execution_count": 95,
   "metadata": {},
   "outputs": [
    {
     "name": "stdout",
     "output_type": "stream",
     "text": [
      "Getting the 2023-09-24-1.json.gz from gharchive\n",
      "Uploading 2023-09-24-1.json.gz to s3 under s3://github-activity/landing/ghactivity/\n"
     ]
    },
    {
     "data": {
      "text/plain": [
       "{'last_run_file_name': 's3://github-activity/landing/ghactivity//2023-09-24-1.json.gz',\n",
       " 'status_code': 200}"
      ]
     },
     "execution_count": 95,
     "metadata": {},
     "output_type": "execute_result"
    }
   ],
   "source": [
    "job_run_details = upload_file_to_s3(next_file, bucket_name, folder)\n",
    "job_run_details"
   ]
  },
  {
   "cell_type": "code",
   "execution_count": 96,
   "metadata": {},
   "outputs": [],
   "source": [
    "def save_job_run_details(job_details, job_run_details, job_start_time, job_run_details_table, job_details_table):\n",
    "    job_run_details_item = {\n",
    "        'job_id': job_details['job_id'],\n",
    "        'job_run_time': job_start_time,\n",
    "        'job_run_bookmark_details': job_run_details,\n",
    "        'create_ts': int(time.mktime(dt.now().timetuple()))\n",
    "    }\n",
    "    #job_run_details_table = dynamo_resource.Table('job_run_details')\n",
    "    job_run_details_table.put_item(Item=job_run_details_item)\n",
    "\n",
    "    #job_details_table = dynamo_resource.Table('jobs')\n",
    "    job_details['job_run_bookmark_details'] = job_run_details\n",
    "    job_details_table.put_item(Item=job_details)"
   ]
  },
  {
   "cell_type": "code",
   "execution_count": 97,
   "metadata": {},
   "outputs": [],
   "source": [
    "save_job_run_details(job_details, job_run_details, job_start_time, job_run_details_table, job_details_table)"
   ]
  },
  {
   "cell_type": "code",
   "execution_count": null,
   "metadata": {},
   "outputs": [],
   "source": []
  },
  {
   "cell_type": "code",
   "execution_count": null,
   "metadata": {},
   "outputs": [],
   "source": []
  },
  {
   "cell_type": "code",
   "execution_count": null,
   "metadata": {},
   "outputs": [],
   "source": []
  },
  {
   "cell_type": "code",
   "execution_count": null,
   "metadata": {},
   "outputs": [],
   "source": [
    "s3_file_path= 's3://github-activity/landing/ghactivity/2023-09-24-0.json.gz'\n",
    "df = pd.read_json(\n",
    "    s3_file_path,\n",
    "    lines=True,\n",
    "    orient='records'\n",
    "    )\n",
    "\n",
    "df.head(2)"
   ]
  },
  {
   "cell_type": "code",
   "execution_count": null,
   "metadata": {},
   "outputs": [],
   "source": [
    "df.shape"
   ]
  },
  {
   "cell_type": "code",
   "execution_count": null,
   "metadata": {},
   "outputs": [],
   "source": []
  }
 ],
 "metadata": {
  "kernelspec": {
   "display_name": "p39-venv",
   "language": "python",
   "name": "p39-venv"
  },
  "language_info": {
   "codemirror_mode": {
    "name": "ipython",
    "version": 3
   },
   "file_extension": ".py",
   "mimetype": "text/x-python",
   "name": "python",
   "nbconvert_exporter": "python",
   "pygments_lexer": "ipython3",
   "version": "3.9.18"
  },
  "orig_nbformat": 4
 },
 "nbformat": 4,
 "nbformat_minor": 2
}
