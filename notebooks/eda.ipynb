{
 "cells": [
  {
   "cell_type": "code",
   "execution_count": 1,
   "metadata": {},
   "outputs": [],
   "source": [
    "import pandas as pd"
   ]
  },
  {
   "cell_type": "code",
   "execution_count": 3,
   "metadata": {},
   "outputs": [
    {
     "data": {
      "text/plain": [
       "(89443, 8)"
      ]
     },
     "execution_count": 3,
     "metadata": {},
     "output_type": "execute_result"
    }
   ],
   "source": [
    "df = pd.read_json('/home/ubuntu/github-activity/data/2022-06-05-0.json.gz',\n",
    "    lines=True)\n",
    "df.shape"
   ]
  },
  {
   "cell_type": "code",
   "execution_count": 4,
   "metadata": {},
   "outputs": [
    {
     "data": {
      "text/html": [
       "<div>\n",
       "<style scoped>\n",
       "    .dataframe tbody tr th:only-of-type {\n",
       "        vertical-align: middle;\n",
       "    }\n",
       "\n",
       "    .dataframe tbody tr th {\n",
       "        vertical-align: top;\n",
       "    }\n",
       "\n",
       "    .dataframe thead th {\n",
       "        text-align: right;\n",
       "    }\n",
       "</style>\n",
       "<table border=\"1\" class=\"dataframe\">\n",
       "  <thead>\n",
       "    <tr style=\"text-align: right;\">\n",
       "      <th></th>\n",
       "      <th>id</th>\n",
       "      <th>type</th>\n",
       "      <th>actor</th>\n",
       "      <th>repo</th>\n",
       "      <th>payload</th>\n",
       "      <th>public</th>\n",
       "      <th>created_at</th>\n",
       "      <th>org</th>\n",
       "    </tr>\n",
       "  </thead>\n",
       "  <tbody>\n",
       "    <tr>\n",
       "      <th>0</th>\n",
       "      <td>22164041431</td>\n",
       "      <td>CreateEvent</td>\n",
       "      <td>{'id': 44050213, 'login': 'collisioncataclysm'...</td>\n",
       "      <td>{'id': 496726861, 'name': 'collisioncataclysm/...</td>\n",
       "      <td>{'ref': 'snyk-upgrade-54c90b4fba783e33846b3123...</td>\n",
       "      <td>True</td>\n",
       "      <td>2022-06-05 00:00:00+00:00</td>\n",
       "      <td>NaN</td>\n",
       "    </tr>\n",
       "    <tr>\n",
       "      <th>1</th>\n",
       "      <td>22164041432</td>\n",
       "      <td>PushEvent</td>\n",
       "      <td>{'id': 92907907, 'login': 'znyt', 'display_log...</td>\n",
       "      <td>{'id': 446902156, 'name': 'znyt/oss111', 'url'...</td>\n",
       "      <td>{'push_id': 10072717837, 'size': 1, 'distinct_...</td>\n",
       "      <td>True</td>\n",
       "      <td>2022-06-05 00:00:00+00:00</td>\n",
       "      <td>NaN</td>\n",
       "    </tr>\n",
       "    <tr>\n",
       "      <th>2</th>\n",
       "      <td>22164041434</td>\n",
       "      <td>PushEvent</td>\n",
       "      <td>{'id': 44050213, 'login': 'collisioncataclysm'...</td>\n",
       "      <td>{'id': 496726861, 'name': 'collisioncataclysm/...</td>\n",
       "      <td>{'push_id': 10072717839, 'size': 1, 'distinct_...</td>\n",
       "      <td>True</td>\n",
       "      <td>2022-06-05 00:00:00+00:00</td>\n",
       "      <td>NaN</td>\n",
       "    </tr>\n",
       "    <tr>\n",
       "      <th>3</th>\n",
       "      <td>22164041435</td>\n",
       "      <td>CreateEvent</td>\n",
       "      <td>{'id': 88858119, 'login': 'danrprado', 'displa...</td>\n",
       "      <td>{'id': 496835873, 'name': 'danrprado/cpanel-ap...</td>\n",
       "      <td>{'ref': 'update-readme', 'ref_type': 'branch',...</td>\n",
       "      <td>True</td>\n",
       "      <td>2022-06-05 00:00:00+00:00</td>\n",
       "      <td>NaN</td>\n",
       "    </tr>\n",
       "    <tr>\n",
       "      <th>4</th>\n",
       "      <td>22164041436</td>\n",
       "      <td>PushEvent</td>\n",
       "      <td>{'id': 69619077, 'login': 'szk302', 'display_l...</td>\n",
       "      <td>{'id': 430227097, 'name': 'szk302/dev-blog-htm...</td>\n",
       "      <td>{'push_id': 10072717843, 'size': 1, 'distinct_...</td>\n",
       "      <td>True</td>\n",
       "      <td>2022-06-05 00:00:00+00:00</td>\n",
       "      <td>NaN</td>\n",
       "    </tr>\n",
       "  </tbody>\n",
       "</table>\n",
       "</div>"
      ],
      "text/plain": [
       "            id         type  \\\n",
       "0  22164041431  CreateEvent   \n",
       "1  22164041432    PushEvent   \n",
       "2  22164041434    PushEvent   \n",
       "3  22164041435  CreateEvent   \n",
       "4  22164041436    PushEvent   \n",
       "\n",
       "                                               actor  \\\n",
       "0  {'id': 44050213, 'login': 'collisioncataclysm'...   \n",
       "1  {'id': 92907907, 'login': 'znyt', 'display_log...   \n",
       "2  {'id': 44050213, 'login': 'collisioncataclysm'...   \n",
       "3  {'id': 88858119, 'login': 'danrprado', 'displa...   \n",
       "4  {'id': 69619077, 'login': 'szk302', 'display_l...   \n",
       "\n",
       "                                                repo  \\\n",
       "0  {'id': 496726861, 'name': 'collisioncataclysm/...   \n",
       "1  {'id': 446902156, 'name': 'znyt/oss111', 'url'...   \n",
       "2  {'id': 496726861, 'name': 'collisioncataclysm/...   \n",
       "3  {'id': 496835873, 'name': 'danrprado/cpanel-ap...   \n",
       "4  {'id': 430227097, 'name': 'szk302/dev-blog-htm...   \n",
       "\n",
       "                                             payload  public  \\\n",
       "0  {'ref': 'snyk-upgrade-54c90b4fba783e33846b3123...    True   \n",
       "1  {'push_id': 10072717837, 'size': 1, 'distinct_...    True   \n",
       "2  {'push_id': 10072717839, 'size': 1, 'distinct_...    True   \n",
       "3  {'ref': 'update-readme', 'ref_type': 'branch',...    True   \n",
       "4  {'push_id': 10072717843, 'size': 1, 'distinct_...    True   \n",
       "\n",
       "                 created_at  org  \n",
       "0 2022-06-05 00:00:00+00:00  NaN  \n",
       "1 2022-06-05 00:00:00+00:00  NaN  \n",
       "2 2022-06-05 00:00:00+00:00  NaN  \n",
       "3 2022-06-05 00:00:00+00:00  NaN  \n",
       "4 2022-06-05 00:00:00+00:00  NaN  "
      ]
     },
     "execution_count": 4,
     "metadata": {},
     "output_type": "execute_result"
    }
   ],
   "source": [
    "df.head()"
   ]
  },
  {
   "cell_type": "code",
   "execution_count": 5,
   "metadata": {},
   "outputs": [
    {
     "data": {
      "text/plain": [
       "Index(['id', 'type', 'actor', 'repo', 'payload', 'public', 'created_at',\n",
       "       'org'],\n",
       "      dtype='object')"
      ]
     },
     "execution_count": 5,
     "metadata": {},
     "output_type": "execute_result"
    }
   ],
   "source": [
    "df.columns"
   ]
  },
  {
   "cell_type": "code",
   "execution_count": 6,
   "metadata": {},
   "outputs": [
    {
     "name": "stdout",
     "output_type": "stream",
     "text": [
      "<class 'pandas.core.frame.DataFrame'>\n",
      "RangeIndex: 89443 entries, 0 to 89442\n",
      "Data columns (total 8 columns):\n",
      " #   Column      Non-Null Count  Dtype              \n",
      "---  ------      --------------  -----              \n",
      " 0   id          89443 non-null  int64              \n",
      " 1   type        89443 non-null  object             \n",
      " 2   actor       89443 non-null  object             \n",
      " 3   repo        89443 non-null  object             \n",
      " 4   payload     89443 non-null  object             \n",
      " 5   public      89443 non-null  bool               \n",
      " 6   created_at  89443 non-null  datetime64[ns, UTC]\n",
      " 7   org         20380 non-null  object             \n",
      "dtypes: bool(1), datetime64[ns, UTC](1), int64(1), object(5)\n",
      "memory usage: 4.9+ MB\n"
     ]
    }
   ],
   "source": [
    "df.info()"
   ]
  },
  {
   "cell_type": "code",
   "execution_count": 11,
   "metadata": {},
   "outputs": [
    {
     "data": {
      "text/html": [
       "<div>\n",
       "<style scoped>\n",
       "    .dataframe tbody tr th:only-of-type {\n",
       "        vertical-align: middle;\n",
       "    }\n",
       "\n",
       "    .dataframe tbody tr th {\n",
       "        vertical-align: top;\n",
       "    }\n",
       "\n",
       "    .dataframe thead th {\n",
       "        text-align: right;\n",
       "    }\n",
       "</style>\n",
       "<table border=\"1\" class=\"dataframe\">\n",
       "  <thead>\n",
       "    <tr style=\"text-align: right;\">\n",
       "      <th></th>\n",
       "      <th>id</th>\n",
       "      <th>type</th>\n",
       "      <th>actor</th>\n",
       "      <th>repo</th>\n",
       "      <th>payload</th>\n",
       "      <th>public</th>\n",
       "      <th>created_at</th>\n",
       "      <th>org</th>\n",
       "    </tr>\n",
       "  </thead>\n",
       "  <tbody>\n",
       "    <tr>\n",
       "      <th>20920</th>\n",
       "      <td>22164102239</td>\n",
       "      <td>PushEvent</td>\n",
       "      <td>{'id': 341094, 'login': 'chrisseaton', 'displa...</td>\n",
       "      <td>{'id': 215869994, 'name': 'Shopify/truffleruby...</td>\n",
       "      <td>{'push_id': 10072757458, 'size': 2, 'distinct_...</td>\n",
       "      <td>True</td>\n",
       "      <td>2022-06-05 00:14:14+00:00</td>\n",
       "      <td>{'id': 8085, 'login': 'Shopify', 'gravatar_id'...</td>\n",
       "    </tr>\n",
       "  </tbody>\n",
       "</table>\n",
       "</div>"
      ],
      "text/plain": [
       "                id       type  \\\n",
       "20920  22164102239  PushEvent   \n",
       "\n",
       "                                                   actor  \\\n",
       "20920  {'id': 341094, 'login': 'chrisseaton', 'displa...   \n",
       "\n",
       "                                                    repo  \\\n",
       "20920  {'id': 215869994, 'name': 'Shopify/truffleruby...   \n",
       "\n",
       "                                                 payload  public  \\\n",
       "20920  {'push_id': 10072757458, 'size': 2, 'distinct_...    True   \n",
       "\n",
       "                     created_at  \\\n",
       "20920 2022-06-05 00:14:14+00:00   \n",
       "\n",
       "                                                     org  \n",
       "20920  {'id': 8085, 'login': 'Shopify', 'gravatar_id'...  "
      ]
     },
     "execution_count": 11,
     "metadata": {},
     "output_type": "execute_result"
    }
   ],
   "source": [
    "df[df['id'].duplicated()]"
   ]
  },
  {
   "cell_type": "code",
   "execution_count": 20,
   "metadata": {},
   "outputs": [
    {
     "data": {
      "text/plain": [
       "{'id': 44050213,\n",
       " 'login': 'collisioncataclysm',\n",
       " 'display_login': 'collisioncataclysm',\n",
       " 'gravatar_id': '',\n",
       " 'url': 'https://api.github.com/users/collisioncataclysm',\n",
       " 'avatar_url': 'https://avatars.githubusercontent.com/u/44050213?'}"
      ]
     },
     "execution_count": 20,
     "metadata": {},
     "output_type": "execute_result"
    }
   ],
   "source": [
    "df.loc[0, 'actor']\n"
   ]
  },
  {
   "cell_type": "code",
   "execution_count": 1,
   "metadata": {},
   "outputs": [
    {
     "ename": "NameError",
     "evalue": "name 'df' is not defined",
     "output_type": "error",
     "traceback": [
      "\u001b[0;31m---------------------------------------------------------------------------\u001b[0m",
      "\u001b[0;31mNameError\u001b[0m                                 Traceback (most recent call last)",
      "Cell \u001b[0;32mIn[1], line 1\u001b[0m\n\u001b[0;32m----> 1\u001b[0m df[\u001b[39m'\u001b[39m\u001b[39mactor\u001b[39m\u001b[39m'\u001b[39m]\n",
      "\u001b[0;31mNameError\u001b[0m: name 'df' is not defined"
     ]
    }
   ],
   "source": [
    "df['actor']"
   ]
  },
  {
   "cell_type": "code",
   "execution_count": null,
   "metadata": {},
   "outputs": [],
   "source": []
  }
 ],
 "metadata": {
  "kernelspec": {
   "display_name": "p39-venv",
   "language": "python",
   "name": "p39-venv"
  },
  "language_info": {
   "codemirror_mode": {
    "name": "ipython",
    "version": 3
   },
   "file_extension": ".py",
   "mimetype": "text/x-python",
   "name": "python",
   "nbconvert_exporter": "python",
   "pygments_lexer": "ipython3",
   "version": "3.9.18"
  },
  "orig_nbformat": 4
 },
 "nbformat": 4,
 "nbformat_minor": 2
}
