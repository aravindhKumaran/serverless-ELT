{
 "cells": [
  {
   "cell_type": "code",
   "execution_count": 1,
   "metadata": {},
   "outputs": [],
   "source": [
    "import boto3\n",
    "import os"
   ]
  },
  {
   "cell_type": "code",
   "execution_count": 3,
   "metadata": {},
   "outputs": [
    {
     "data": {
      "text/plain": [
       "<botocore.client.S3 at 0x7f8184054ee0>"
      ]
     },
     "execution_count": 3,
     "metadata": {},
     "output_type": "execute_result"
    }
   ],
   "source": [
    "s3_client = boto3.client('s3')\n",
    "s3_client"
   ]
  },
  {
   "cell_type": "code",
   "execution_count": 17,
   "metadata": {},
   "outputs": [
    {
     "data": {
      "text/plain": [
       "['airbyte-api-s3',\n",
       " 'athena-results-restbus',\n",
       " 'github-activity',\n",
       " 'local-restbus',\n",
       " 'mid-athena',\n",
       " 'midterm-raw',\n",
       " 'rest-bus',\n",
       " 'restbus-logs',\n",
       " 'youtube-data-proj',\n",
       " 'yt-test-arv']"
      ]
     },
     "execution_count": 17,
     "metadata": {},
     "output_type": "execute_result"
    }
   ],
   "source": [
    "bucket_list = [bucket['Name'] for bucket in s3_client.list_buckets()['Buckets']]\n",
    "bucket_list"
   ]
  },
  {
   "cell_type": "code",
   "execution_count": 19,
   "metadata": {},
   "outputs": [
    {
     "name": "stdout",
     "output_type": "stream",
     "text": [
      "bucket name - github-activity is already present\n"
     ]
    }
   ],
   "source": [
    "bucket_name = 'github-activity'\n",
    "if bucket_name not in bucket_list:\n",
    "    s3_client.create_bucket(Bucket=bucket_name)\n",
    "else:\n",
    "    print(f'bucket name - {bucket_name} is already present')"
   ]
  },
  {
   "cell_type": "code",
   "execution_count": null,
   "metadata": {},
   "outputs": [],
   "source": []
  }
 ],
 "metadata": {
  "kernelspec": {
   "display_name": "p39-venv",
   "language": "python",
   "name": "p39-venv"
  },
  "language_info": {
   "codemirror_mode": {
    "name": "ipython",
    "version": 3
   },
   "file_extension": ".py",
   "mimetype": "text/x-python",
   "name": "python",
   "nbconvert_exporter": "python",
   "pygments_lexer": "ipython3",
   "version": "3.9.18"
  },
  "orig_nbformat": 4
 },
 "nbformat": 4,
 "nbformat_minor": 2
}
